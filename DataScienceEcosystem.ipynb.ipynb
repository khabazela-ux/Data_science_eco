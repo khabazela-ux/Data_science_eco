{
 "cells": [
  {
   "cell_type": "markdown",
   "id": "8f17304a-9396-417e-a3d7-5234fbe3b4b1",
   "metadata": {},
   "source": [
    "# Data Science Tools and Ecosystem"
   ]
  },
  {
   "cell_type": "markdown",
   "id": "7a737203-99d8-4ee5-9d75-ce192cdcbc1c",
   "metadata": {},
   "source": [
    "## In this notebook, Data Science Tools and Ecosystem are summarized."
   ]
  },
  {
   "cell_type": "markdown",
   "id": "c873a120-a7a2-4e98-8571-60d63f1f007c",
   "metadata": {},
   "source": [
    "### Some of the popular languages that Data Scientists use are:"
   ]
  },
  {
   "cell_type": "markdown",
   "id": "1736ba0e-7627-4b2b-8e99-0140da1587c0",
   "metadata": {},
   "source": [
    "__Objectives:__\n",
    "- Julia\n",
    "- Python\n",
    "- R"
   ]
  },
  {
   "cell_type": "markdown",
   "id": "9de1b50e-30ff-48e4-9e07-65d886e509dd",
   "metadata": {},
   "source": [
    "1. Python\n",
    "2. R\n",
    "3. Julia\n",
    "4. Scala"
   ]
  },
  {
   "cell_type": "markdown",
   "id": "19cbd2f1-9de4-40aa-85ee-b2bfdc763c66",
   "metadata": {},
   "source": [
    "### Some of the commonly used libraries used by Data Scientists include:"
   ]
  },
  {
   "cell_type": "markdown",
   "id": "a78fc868-19c6-4a84-8bf2-a5acc068bbb6",
   "metadata": {},
   "source": [
    "1. Numpy\n",
    "2. Pandas\n",
    "3. Plotly\n",
    "4. Ggplot2"
   ]
  },
  {
   "cell_type": "markdown",
   "id": "954588b5-7172-4360-bbcc-b64f1958a703",
   "metadata": {},
   "source": [
    "| Data Science Tools |\n",
    "|-------------------|\n",
    "| Weka |\n",
    "| JupyterNoteBook |\n",
    "| KNIME |"
   ]
  },
  {
   "cell_type": "markdown",
   "id": "c2627b31-a7af-4f73-858f-bb4ccdf5be55",
   "metadata": {},
   "source": [
    "### Below are a few examples of evaluating arithmetic expressions in Python"
   ]
  },
  {
   "cell_type": "code",
   "execution_count": 15,
   "id": "3c0104d1-418b-4fab-bfa4-7f66097bf204",
   "metadata": {},
   "outputs": [
    {
     "data": {
      "text/plain": [
       "17"
      ]
     },
     "execution_count": 15,
     "metadata": {},
     "output_type": "execute_result"
    }
   ],
   "source": [
    "(3*4)+5\n",
    "#This a simple arithmetic expression to mutiply then add integers\n"
   ]
  },
  {
   "cell_type": "code",
   "execution_count": 17,
   "id": "1a544d5b-1abd-4240-a188-0043373d2228",
   "metadata": {},
   "outputs": [
    {
     "data": {
      "text/plain": [
       "3.3333333333333335"
      ]
     },
     "execution_count": 17,
     "metadata": {},
     "output_type": "execute_result"
    }
   ],
   "source": [
    "200 / 60\n",
    "#This will convert 200 minutes to hours by diving by 60\n"
   ]
  },
  {
   "cell_type": "markdown",
   "id": "02295867-e972-40b9-a6bb-87069fa71393",
   "metadata": {},
   "source": [
    "## Author\n",
    "Viki Mkhize"
   ]
  },
  {
   "cell_type": "code",
   "execution_count": null,
   "id": "456cc674-1c77-4a52-b65d-5764c5d68291",
   "metadata": {},
   "outputs": [],
   "source": []
  }
 ],
 "metadata": {
  "kernelspec": {
   "display_name": "Python [conda env:base] *",
   "language": "python",
   "name": "conda-base-py"
  },
  "language_info": {
   "codemirror_mode": {
    "name": "ipython",
    "version": 3
   },
   "file_extension": ".py",
   "mimetype": "text/x-python",
   "name": "python",
   "nbconvert_exporter": "python",
   "pygments_lexer": "ipython3",
   "version": "3.12.7"
  }
 },
 "nbformat": 4,
 "nbformat_minor": 5
}
